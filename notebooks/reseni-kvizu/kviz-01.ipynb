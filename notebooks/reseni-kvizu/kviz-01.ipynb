{
 "cells": [
  {
   "cell_type": "markdown",
   "metadata": {},
   "source": [
    "# LEKCE 1\n",
    "\n",
    "# Základní analýza datové sady Palmer Penguins"
   ]
  },
  {
   "cell_type": "markdown",
   "metadata": {},
   "source": [
    "## Načtěte dataset Palmer Penguins\n",
    "Můžete jej stáhnout z GitHub [repozitáře](https://raw.githubusercontent.com/allisonhorst/palmerpenguins/master/inst/extdata/penguins.csv).\n",
    "\n",
    "Použijte knihovnu pandas, metodu `read_csv()` a data uložte do dataframu nazváného data."
   ]
  },
  {
   "cell_type": "markdown",
   "metadata": {},
   "source": [
    "#### Dokumentace k datasetu “Penguins”\n",
    "\n",
    "Tento dataset obsahuje údaje o třech druzích tučňáků, kteří se vyskytují v oblasti Palmerovy stanice na Antarktidě. Dataset je často využíván pro výukové účely a analýzy dat.\n",
    "\n",
    "Dataset obsahuje měření různých fyzických charakteristik tučňáků ze tří různých ostrovů. Data zahrnují informace o délce zobáku, hloubce zobáku, délce ploutví, hmotnosti těla a dalších proměnných. Měření byla provedena na třech druzích tučňáků: Adélie, Gentoo, a Chinstrap.\n",
    "\n",
    "**Sloupce datasetu:**\n",
    "\n",
    "- species – Druh tučňáka (Adélie, Gentoo, Chinstrap)\n",
    "- island – Ostrov, na kterém byl tučňák pozorován (Biscoe, Dream, Torgersen)\n",
    "- bill_length_mm – Délka zobáku v milimetrech\n",
    "- bill_depth_mm – Hloubka zobáku v milimetrech\n",
    "- flipper_length_mm – Délka ploutve v milimetrech\n",
    "- body_mass_g – Hmotnost těla tučňáka v gramech\n",
    "- sex – Pohlaví tučňáka (Male nebo Female)\n",
    "- year – Rok, kdy bylo měření provedeno"
   ]
  },
  {
   "cell_type": "code",
   "execution_count": 1,
   "metadata": {},
   "outputs": [],
   "source": [
    "import pandas as pd\n",
    "\n",
    "url = \"https://raw.githubusercontent.com/allisonhorst/palmerpenguins/master/inst/extdata/penguins.csv\"\n",
    "\n",
    "data = pd.read_csv(url)"
   ]
  },
  {
   "cell_type": "markdown",
   "metadata": {},
   "source": [
    "### Kolik řádků obsahuje dataset?"
   ]
  },
  {
   "cell_type": "code",
   "execution_count": 4,
   "metadata": {},
   "outputs": [
    {
     "name": "stdout",
     "output_type": "stream",
     "text": [
      "344\n"
     ]
    }
   ],
   "source": [
    "# Použití data.shape[0] (první prvek tuple ze shape)\n",
    "pocet_radek = data.shape[0]\n",
    "\n",
    "# Použití len() na samotný datový rámec (vrací délku indexu, tedy počet řádků)\n",
    "pocet_radek = len(data)\n",
    "\n",
    "# Použití len() na index datového rámce\n",
    "pocet_radek = len(data.index)\n",
    "\n",
    "# Použití pandasové metody .index.size (přímo vrací velikost indexu, což odpovídá počtu řádků)\n",
    "pocet_radek = data.index.size\n",
    "\n",
    "print(pocet_radek)\n",
    "\n",
    "# Použití .info() k zobrazení počtu ne-null hodnot v každém sloupci (ale toto jen zobrazí, ne vrátí výsledek jako číslo)\n",
    "# data.info()"
   ]
  },
  {
   "cell_type": "markdown",
   "metadata": {},
   "source": [
    "### Kolik sloupců má načtený dataset?\n"
   ]
  },
  {
   "cell_type": "code",
   "execution_count": 5,
   "metadata": {},
   "outputs": [
    {
     "name": "stdout",
     "output_type": "stream",
     "text": [
      "8\n"
     ]
    }
   ],
   "source": [
    "# Získání počtu sloupců v datovém rámci (druhý prvek tuple)\n",
    "pocet_sloupcu = data.shape[1]\n",
    "\n",
    "# Získání počtu sloupců pomocí len() na seznamu sloupců\n",
    "pocet_sloupcu = len(data.columns)\n",
    "\n",
    "# Získání počtu unikátních názvů sloupců pomocí .nunique() na seznamu sloupců\n",
    "pocet_sloupcu = data.columns.nunique()\n",
    "\n",
    "# Použití metody .columns.size, která vrací počet sloupců\n",
    "pocet_sloupcu = data.columns.size\n",
    "\n",
    "print(pocet_sloupcu)\n",
    "\n",
    "# Zobrazení informací o datovém rámci, včetně počtu ne-null hodnot, typů sloupců atd.\n",
    "# data.info()"
   ]
  },
  {
   "cell_type": "markdown",
   "metadata": {},
   "source": [
    "### Jak zobrazíte první 10 řádků DataFrame data?\n",
    "\n",
    "Napiš kód."
   ]
  },
  {
   "cell_type": "code",
   "execution_count": 10,
   "metadata": {},
   "outputs": [
    {
     "data": {
      "text/html": [
       "<div>\n",
       "<style scoped>\n",
       "    .dataframe tbody tr th:only-of-type {\n",
       "        vertical-align: middle;\n",
       "    }\n",
       "\n",
       "    .dataframe tbody tr th {\n",
       "        vertical-align: top;\n",
       "    }\n",
       "\n",
       "    .dataframe thead th {\n",
       "        text-align: right;\n",
       "    }\n",
       "</style>\n",
       "<table border=\"1\" class=\"dataframe\">\n",
       "  <thead>\n",
       "    <tr style=\"text-align: right;\">\n",
       "      <th></th>\n",
       "      <th>species</th>\n",
       "      <th>island</th>\n",
       "      <th>bill_length_mm</th>\n",
       "      <th>bill_depth_mm</th>\n",
       "      <th>flipper_length_mm</th>\n",
       "      <th>body_mass_g</th>\n",
       "      <th>sex</th>\n",
       "      <th>year</th>\n",
       "    </tr>\n",
       "  </thead>\n",
       "  <tbody>\n",
       "    <tr>\n",
       "      <th>0</th>\n",
       "      <td>Adelie</td>\n",
       "      <td>Torgersen</td>\n",
       "      <td>39.1</td>\n",
       "      <td>18.7</td>\n",
       "      <td>181.0</td>\n",
       "      <td>3750.0</td>\n",
       "      <td>male</td>\n",
       "      <td>2007</td>\n",
       "    </tr>\n",
       "    <tr>\n",
       "      <th>1</th>\n",
       "      <td>Adelie</td>\n",
       "      <td>Torgersen</td>\n",
       "      <td>39.5</td>\n",
       "      <td>17.4</td>\n",
       "      <td>186.0</td>\n",
       "      <td>3800.0</td>\n",
       "      <td>female</td>\n",
       "      <td>2007</td>\n",
       "    </tr>\n",
       "    <tr>\n",
       "      <th>2</th>\n",
       "      <td>Adelie</td>\n",
       "      <td>Torgersen</td>\n",
       "      <td>40.3</td>\n",
       "      <td>18.0</td>\n",
       "      <td>195.0</td>\n",
       "      <td>3250.0</td>\n",
       "      <td>female</td>\n",
       "      <td>2007</td>\n",
       "    </tr>\n",
       "    <tr>\n",
       "      <th>3</th>\n",
       "      <td>Adelie</td>\n",
       "      <td>Torgersen</td>\n",
       "      <td>NaN</td>\n",
       "      <td>NaN</td>\n",
       "      <td>NaN</td>\n",
       "      <td>NaN</td>\n",
       "      <td>NaN</td>\n",
       "      <td>2007</td>\n",
       "    </tr>\n",
       "    <tr>\n",
       "      <th>4</th>\n",
       "      <td>Adelie</td>\n",
       "      <td>Torgersen</td>\n",
       "      <td>36.7</td>\n",
       "      <td>19.3</td>\n",
       "      <td>193.0</td>\n",
       "      <td>3450.0</td>\n",
       "      <td>female</td>\n",
       "      <td>2007</td>\n",
       "    </tr>\n",
       "    <tr>\n",
       "      <th>5</th>\n",
       "      <td>Adelie</td>\n",
       "      <td>Torgersen</td>\n",
       "      <td>39.3</td>\n",
       "      <td>20.6</td>\n",
       "      <td>190.0</td>\n",
       "      <td>3650.0</td>\n",
       "      <td>male</td>\n",
       "      <td>2007</td>\n",
       "    </tr>\n",
       "    <tr>\n",
       "      <th>6</th>\n",
       "      <td>Adelie</td>\n",
       "      <td>Torgersen</td>\n",
       "      <td>38.9</td>\n",
       "      <td>17.8</td>\n",
       "      <td>181.0</td>\n",
       "      <td>3625.0</td>\n",
       "      <td>female</td>\n",
       "      <td>2007</td>\n",
       "    </tr>\n",
       "    <tr>\n",
       "      <th>7</th>\n",
       "      <td>Adelie</td>\n",
       "      <td>Torgersen</td>\n",
       "      <td>39.2</td>\n",
       "      <td>19.6</td>\n",
       "      <td>195.0</td>\n",
       "      <td>4675.0</td>\n",
       "      <td>male</td>\n",
       "      <td>2007</td>\n",
       "    </tr>\n",
       "    <tr>\n",
       "      <th>8</th>\n",
       "      <td>Adelie</td>\n",
       "      <td>Torgersen</td>\n",
       "      <td>34.1</td>\n",
       "      <td>18.1</td>\n",
       "      <td>193.0</td>\n",
       "      <td>3475.0</td>\n",
       "      <td>NaN</td>\n",
       "      <td>2007</td>\n",
       "    </tr>\n",
       "    <tr>\n",
       "      <th>9</th>\n",
       "      <td>Adelie</td>\n",
       "      <td>Torgersen</td>\n",
       "      <td>42.0</td>\n",
       "      <td>20.2</td>\n",
       "      <td>190.0</td>\n",
       "      <td>4250.0</td>\n",
       "      <td>NaN</td>\n",
       "      <td>2007</td>\n",
       "    </tr>\n",
       "  </tbody>\n",
       "</table>\n",
       "</div>"
      ],
      "text/plain": [
       "  species     island  bill_length_mm  bill_depth_mm  flipper_length_mm  \\\n",
       "0  Adelie  Torgersen            39.1           18.7              181.0   \n",
       "1  Adelie  Torgersen            39.5           17.4              186.0   \n",
       "2  Adelie  Torgersen            40.3           18.0              195.0   \n",
       "3  Adelie  Torgersen             NaN            NaN                NaN   \n",
       "4  Adelie  Torgersen            36.7           19.3              193.0   \n",
       "5  Adelie  Torgersen            39.3           20.6              190.0   \n",
       "6  Adelie  Torgersen            38.9           17.8              181.0   \n",
       "7  Adelie  Torgersen            39.2           19.6              195.0   \n",
       "8  Adelie  Torgersen            34.1           18.1              193.0   \n",
       "9  Adelie  Torgersen            42.0           20.2              190.0   \n",
       "\n",
       "   body_mass_g     sex  year  \n",
       "0       3750.0    male  2007  \n",
       "1       3800.0  female  2007  \n",
       "2       3250.0  female  2007  \n",
       "3          NaN     NaN  2007  \n",
       "4       3450.0  female  2007  \n",
       "5       3650.0    male  2007  \n",
       "6       3625.0  female  2007  \n",
       "7       4675.0    male  2007  \n",
       "8       3475.0     NaN  2007  \n",
       "9       4250.0     NaN  2007  "
      ]
     },
     "execution_count": 10,
     "metadata": {},
     "output_type": "execute_result"
    }
   ],
   "source": [
    "# print(data.head(10))\n",
    "\n",
    "data.head(10)"
   ]
  },
  {
   "cell_type": "markdown",
   "metadata": {},
   "source": [
    "### Kolik sloupců v datasetu obsahuje prázdné hodnoty?"
   ]
  },
  {
   "cell_type": "code",
   "execution_count": 6,
   "metadata": {},
   "outputs": [
    {
     "name": "stdout",
     "output_type": "stream",
     "text": [
      "<class 'pandas.core.frame.DataFrame'>\n",
      "RangeIndex: 344 entries, 0 to 343\n",
      "Data columns (total 8 columns):\n",
      " #   Column             Non-Null Count  Dtype  \n",
      "---  ------             --------------  -----  \n",
      " 0   species            344 non-null    object \n",
      " 1   island             344 non-null    object \n",
      " 2   bill_length_mm     342 non-null    float64\n",
      " 3   bill_depth_mm      342 non-null    float64\n",
      " 4   flipper_length_mm  342 non-null    float64\n",
      " 5   body_mass_g        342 non-null    float64\n",
      " 6   sex                333 non-null    object \n",
      " 7   year               344 non-null    int64  \n",
      "dtypes: float64(4), int64(1), object(3)\n",
      "memory usage: 21.6+ KB\n"
     ]
    }
   ],
   "source": [
    "# Zobrazení informace o sloupcích včetně počtu ne-null hodnot\n",
    "data.info()"
   ]
  },
  {
   "cell_type": "markdown",
   "metadata": {},
   "source": [
    "**Něco navíc** \n",
    "\n",
    "Další pokročilejší způsoby pro inspiraci"
   ]
  },
  {
   "cell_type": "code",
   "execution_count": 7,
   "metadata": {},
   "outputs": [
    {
     "name": "stdout",
     "output_type": "stream",
     "text": [
      "5\n"
     ]
    }
   ],
   "source": [
    "# Zjištění, kolik sloupců obsahuje alespoň jednu prázdnou hodnotu\n",
    "pocet_sloupcu_nan = data.isnull().any().sum()\n",
    "pocet_sloupcu_nan = data.isna().any().sum()\n",
    "\n",
    "print(pocet_sloupcu_nan)"
   ]
  },
  {
   "cell_type": "markdown",
   "metadata": {},
   "source": [
    "### Co vrací vlastnost `columns`?"
   ]
  },
  {
   "cell_type": "markdown",
   "metadata": {},
   "source": [
    "Jména sloupců v DataFrame."
   ]
  },
  {
   "cell_type": "code",
   "execution_count": 13,
   "metadata": {},
   "outputs": [
    {
     "data": {
      "text/plain": [
       "Index(['species', 'island', 'bill_length_mm', 'bill_depth_mm',\n",
       "       'flipper_length_mm', 'body_mass_g', 'sex', 'year'],\n",
       "      dtype='object')"
      ]
     },
     "execution_count": 13,
     "metadata": {},
     "output_type": "execute_result"
    }
   ],
   "source": [
    "data.columns"
   ]
  },
  {
   "cell_type": "markdown",
   "metadata": {},
   "source": [
    "Vlastnost columns v pandas vrací Index obsahující názvy sloupců daného DataFrame. \n",
    "\n",
    "Tento index funguje podobně jako seznam, což znamená, že lze přistupovat k jednotlivým názvům sloupců pomocí indexování. \n",
    "\n",
    "Lze jej také převést na běžný seznam pomocí list(df.columns). \n",
    "\n",
    "Pokud je DataFrame vytvořen bez zadaných názvů sloupců, pandas jim přiřadí výchozí číselné hodnoty. columns je pouze pro čtení, ale lze jej přepsat novým seznamem názvů."
   ]
  },
  {
   "cell_type": "markdown",
   "metadata": {},
   "source": [
    "### Co znamená výstup `(1000, 5)` z příkazu `data.shape`?"
   ]
  },
  {
   "cell_type": "markdown",
   "metadata": {},
   "source": [
    "DataFrame má 1000 řádků a 5 sloupců.\n",
    "\n",
    "\n",
    "- První číslo (1000) udává počet řádků, tedy počet jednotlivých záznamů nebo pozorování v datasetu.\n",
    "- Druhé číslo (5) značí počet sloupců, což odpovídá počtu různých atributů nebo vlastností popisujících každý řádek.\n",
    "- Vlastnost .shape je užitečná pro rychlou kontrolu velikosti datasetu, například při práci s velkými soubory nebo při ladění kódu.\n",
    "- Tento výstup může být využit v podmínkách, například if data.shape[0] > 1000:, což umožní reagovat na velikost datasetu.\n",
    "- Pokud DataFrame obsahuje chybějící hodnoty nebo duplicitní řádky, .shape stále odráží celkový počet řádků bez ohledu na jejich kvalitu."
   ]
  },
  {
   "cell_type": "markdown",
   "metadata": {},
   "source": [
    "### Co znamená metoda `info()` v pandas?"
   ]
  },
  {
   "cell_type": "markdown",
   "metadata": {},
   "source": [
    "Vrací informace o sloupcích a jejich datových typech. \n",
    "\n",
    "Metoda `info()` v pandas poskytuje přehledné shrnutí DataFrame, které zahrnuje:\n",
    "1.\tPočet řádků a sloupců – ukazuje celkovou velikost datasetu.\n",
    "2.\tTypy dat ve sloupcích – např. int64, float64, object (pro text), datetime64, category atd.\n",
    "3.\tPočet ne-null hodnot – pomáhá identifikovat chybějící data.\n",
    "4.\tVelikost v paměti – kolik paměti DataFrame zabírá, což je užitečné u velkých datasetů.\n",
    "\n",
    "Tento výstup pomáhá rychle pochopit strukturu a kvalitu dat."
   ]
  },
  {
   "cell_type": "markdown",
   "metadata": {},
   "source": [
    "### Co představuje `index` v pandas DataFrame a jakou roli hraje při práci s daty?"
   ]
  },
  {
   "cell_type": "markdown",
   "metadata": {},
   "source": [
    "Index v pandas je sloupec, který slouží jako jedinečný identifikátor pro každý řádek a usnadňuje přístup k datům.\n",
    "\n",
    "Hlavní role indexu:\n",
    "1.\tIdentifikace řádků – Každý řádek má svůj jedinečný index, což usnadňuje přístup k datům.\n",
    "2.\tVýchozí nebo vlastní hodnoty – Výchozí index je číselný (0, 1, 2...), ale lze jej nastavit na sloupec datasetu, např. ID zákazníka nebo datum.\n",
    "3.\tRychlé vyhledávání – Pandas optimalizuje operace nad indexovanými daty pro rychlé dotazy a spojování (merge, join).\n",
    "4.\tZachování struktury při manipulaci – Při filtraci nebo změně pořadí řádků index pomáhá udržet konzistenci dat.\n",
    "5.\tVíceúrovňové indexování (MultiIndex) – Umožňuje hierarchickou strukturu dat pro složitější analýzy."
   ]
  },
  {
   "cell_type": "markdown",
   "metadata": {},
   "source": []
  }
 ],
 "metadata": {
  "kernelspec": {
   "display_name": "Python 3",
   "language": "python",
   "name": "python3"
  },
  "language_info": {
   "codemirror_mode": {
    "name": "ipython",
    "version": 3
   },
   "file_extension": ".py",
   "mimetype": "text/x-python",
   "name": "python",
   "nbconvert_exporter": "python",
   "pygments_lexer": "ipython3",
   "version": "3.12.3"
  }
 },
 "nbformat": 4,
 "nbformat_minor": 2
}
