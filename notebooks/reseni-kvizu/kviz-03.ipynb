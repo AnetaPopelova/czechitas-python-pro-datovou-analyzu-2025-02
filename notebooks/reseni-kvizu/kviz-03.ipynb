{
 "cells": [
  {
   "cell_type": "markdown",
   "metadata": {},
   "source": [
    "# LEKCE 3\n",
    "\n",
    "# Spojování, agregace a řazení tučňáků"
   ]
  },
  {
   "cell_type": "code",
   "execution_count": 9,
   "metadata": {},
   "outputs": [],
   "source": [
    "import pandas as pd"
   ]
  },
  {
   "cell_type": "markdown",
   "metadata": {},
   "source": [
    "## Praktické spojování\n",
    "\n",
    "| **Column Name**   | **Description**                                                                                               |\n",
    "|-------------------|---------------------------------------------------------------------------------------------------------------|\n",
    "| **studyName**      | Sampling expedition from which data were collected, generated, etc.                                           |\n",
    "| **Sample Number**  | Continuous numbering sequence for each sample                                                                |\n",
    "| **Species**        | A string representing the species of an organism                                                             |\n",
    "| **Region**         | Nominal region of Palmer LTER sampling grid                                                                  |\n",
    "| **Island**         | Island near Palmer Station where samples were collected                                                      |\n",
    "| **Stage**          | Reproductive stage at sampling                                                                               |\n",
    "| **Individual ID**  | A unique ID for each individual in the dataset                                                               |\n",
    "| **Clutch Completion** | Whether the study nest was observed with a full clutch (i.e., 2 eggs)                                      |\n",
    "| **Date Egg**       | Date the study nest was observed with 1 egg (sampled)                                                        |\n",
    "| **Culmen Length**  | Length of the dorsal ridge of a bird's bill                                                                  |\n",
    "| **Culmen Depth**   | Depth of the dorsal ridge of a bird's bill                                                                   |\n",
    "| **Flipper Length** | Length of the flipper                                                                                        |\n",
    "| **Body Mass**      | Mass of the body                                                                                             |\n",
    "| **Sex**            | Code for the sex of an animal                                                                                |\n",
    "| **Delta 15 N**     | A measure of the ratio of stable isotopes 15N:14N                                                            |\n",
    "| **Delta 13 C**     | A measure of the ratio of stable isotopes 13C:12C                                                            |\n",
    "| **Comments**       | Text field to provide additional relevant information for the data                                            |\n",
    "\n",
    "\n",
    "<br>\n",
    "\n",
    "> ### Methods and protocols used in the collection of this data package\n",
    ">\n",
    "> Each season, study nests, where pairs of adults were present, were individually marked and chosen before the onset of egg-laying, and consistently monitored. When study nests were found at the one-egg stage, both adults were captured to obtain blood samples used for molecular sexing and stable isotope analyses, and measurements of structural size and body mass. \n",
    ">\n",
    "> At the time of capture, each adult penguin was quickly blood sampled (~1 ml) from the brachial vein using a sterile 3 ml syringe and heparinized infusion needle. Collected blood was stored in 1.5 ml micro-centrifuge tubes that were kept cool. In the field, a small amount of whole blood was smeared on clean filter paper stored in a 1.5 ml micro-centrifuge tube for molecular sexing. \n",
    ">\n",
    "> Measurements of culmen length and depth (using dial calipers ± 0.1 mm), right flipper (using a ruler ± 1 mm), and body mass (using 5 kg ± 25 g or 10 kg ± 50 g Pesola spring scales and a weigh bag) were obtained to quantify body size variation. After handling, individuals at study nests were further monitored to ensure the pair reached clutch completion, i.e., two eggs. \n",
    ">\n",
    "> Molecular analyses were conducted at Simon Fraser University following standard PCR protocols, and stable isotope analyses were conducted at the Stable Isotope Facility at the University of California, Davis using an elemental analyzer interfaced with an isotope ratio mass spectrometer.\n",
    ">\n"
   ]
  },
  {
   "cell_type": "code",
   "execution_count": 26,
   "metadata": {},
   "outputs": [
    {
     "name": "stdout",
     "output_type": "stream",
     "text": [
      "Adelie Penguins:  (152, 17)\n",
      "Chinstrap Penguins:  (68, 17)\n",
      "Gentoo Penguins:  (124, 17)\n"
     ]
    }
   ],
   "source": [
    "penguins_adelie = pd.read_csv(\"penguins_adelie.csv\")\n",
    "penguins_chinstrap = pd.read_csv(\"penguins_chinstrap.csv\")\n",
    "penguins_gentoo = pd.read_csv(\"penguins_gentoo.csv\")\n",
    "\n",
    "# Print the number of rows and columns for each DataFrame before concatenation\n",
    "print(\"Adelie Penguins: \", penguins_adelie.shape)\n",
    "print(\"Chinstrap Penguins: \", penguins_chinstrap.shape)\n",
    "print(\"Gentoo Penguins: \", penguins_gentoo.shape)\n"
   ]
  },
  {
   "cell_type": "markdown",
   "metadata": {},
   "source": [
    "### Spoj všechny druhy tučňáků"
   ]
  },
  {
   "cell_type": "code",
   "execution_count": 27,
   "metadata": {},
   "outputs": [
    {
     "name": "stdout",
     "output_type": "stream",
     "text": [
      "All Penguins (after concat):  (344, 17)\n"
     ]
    }
   ],
   "source": [
    "penguins_all = pd.concat([penguins_adelie, penguins_chinstrap, penguins_gentoo])\n",
    "\n",
    "penguins_all.reset_index(drop=True, inplace=True)\n",
    "print(\"All Penguins (after concat): \", penguins_all.shape)"
   ]
  },
  {
   "cell_type": "markdown",
   "metadata": {},
   "source": [
    "Pomocí kódu níže vytvoř slovník se souřadnicemi a následně dataframe `penguin_islands_df`.\n"
   ]
  },
  {
   "cell_type": "code",
   "execution_count": 12,
   "metadata": {},
   "outputs": [],
   "source": [
    "island_data = { 'Island': ['Torgersen', 'Biscoe', 'Dream'], \n",
    "               'Latitude': [-64.7667, -66.0000, -64.7333], \n",
    "               'Longitude': [-64.0667, -66.0000, -64.2333], \n",
    "               'Location': [ 'Torgersen Island, near Palmer Station on the Antarctic Peninsula, close to Anvers Island', \n",
    "                            'Biscoe Islands, an archipelago off the west coast of the Antarctic Peninsula, south of the Palmer Archipelago', \n",
    "                            'Dream Island, part of the Argentine Islands, located near the western side of the Antarctic Peninsula' ] } \n",
    "\n",
    "penguin_islands_df = pd.DataFrame(island_data) "
   ]
  },
  {
   "cell_type": "code",
   "execution_count": 13,
   "metadata": {},
   "outputs": [],
   "source": [
    "penguins_with_location = pd.merge(penguins_all, penguin_islands_df, on='Island', how='left')"
   ]
  },
  {
   "cell_type": "code",
   "execution_count": 14,
   "metadata": {},
   "outputs": [
    {
     "data": {
      "text/plain": [
       "-65.35696976744185"
      ]
     },
     "execution_count": 14,
     "metadata": {},
     "output_type": "execute_result"
    }
   ],
   "source": [
    "penguins_with_location['Latitude'].mean()"
   ]
  },
  {
   "cell_type": "markdown",
   "metadata": {},
   "source": [
    "## Agregace"
   ]
  },
  {
   "cell_type": "code",
   "execution_count": 28,
   "metadata": {},
   "outputs": [],
   "source": [
    "data = pd.read_csv(\"https://raw.githubusercontent.com/allisonhorst/palmerpenguins/master/inst/extdata/penguins.csv\")"
   ]
  },
  {
   "cell_type": "markdown",
   "metadata": {},
   "source": [
    "### Jaké jsou průměrné hodnoty hmotnost tučňáků podle jejich druhu?"
   ]
  },
  {
   "cell_type": "code",
   "execution_count": 16,
   "metadata": {},
   "outputs": [
    {
     "data": {
      "text/plain": [
       "species\n",
       "Adelie       3700.662252\n",
       "Chinstrap    3733.088235\n",
       "Gentoo       5076.016260\n",
       "Name: body_mass_g, dtype: float64"
      ]
     },
     "execution_count": 16,
     "metadata": {},
     "output_type": "execute_result"
    }
   ],
   "source": [
    "data.groupby(\"species\")[\"body_mass_g\"].mean()"
   ]
  },
  {
   "cell_type": "markdown",
   "metadata": {},
   "source": [
    "### Který druh tučňáka má největší maximální hmotnost a jaká je tato hmotnost?\n",
    "\n",
    "Nejprve seskupte data podle druhu tučňáka pomocí `groupby()`, poté použijte agregaci `max()` na sloupec s hmotností.  \n",
    "Nakonec použijte metodu `sort_values()` pro seřazení výsledků sestupně a získejte první řádek pro odpověď."
   ]
  },
  {
   "cell_type": "code",
   "execution_count": 17,
   "metadata": {},
   "outputs": [
    {
     "data": {
      "text/plain": [
       "species\n",
       "Gentoo    6300.0\n",
       "Name: body_mass_g, dtype: float64"
      ]
     },
     "execution_count": 17,
     "metadata": {},
     "output_type": "execute_result"
    }
   ],
   "source": [
    "data.groupby(\"species\")[\"body_mass_g\"].max().sort_values(ascending=False).head(1)"
   ]
  },
  {
   "cell_type": "markdown",
   "metadata": {},
   "source": [
    "### Jaký je počet tučňáků podle jejich pohlaví v každém druhu? "
   ]
  },
  {
   "cell_type": "code",
   "execution_count": 18,
   "metadata": {},
   "outputs": [
    {
     "data": {
      "text/plain": [
       "species    sex   \n",
       "Adelie     female    73\n",
       "           male      73\n",
       "Chinstrap  female    34\n",
       "           male      34\n",
       "Gentoo     female    58\n",
       "           male      61\n",
       "dtype: int64"
      ]
     },
     "execution_count": 18,
     "metadata": {},
     "output_type": "execute_result"
    }
   ],
   "source": [
    "data.groupby([\"species\", \"sex\"]).size()\n",
    "# data.groupby([\"species\", \"sex\"])[\"sex\"].size()"
   ]
  },
  {
   "cell_type": "markdown",
   "metadata": {},
   "source": [
    "### Který druh má nejmenší rozdíl mezi minimální a maximální délkou křídel?\n",
    "\n",
    "Seskupte data podle druhu tučňáka a použijte metody `min()` a `max()` pro zjištění minimálních a maximálních hodnot délky křídel.  \n",
    "Výsledky můžete zobrazit pomocí metody `agg()`, kde specifikujete obě agregační funkce."
   ]
  },
  {
   "cell_type": "code",
   "execution_count": 19,
   "metadata": {},
   "outputs": [
    {
     "data": {
      "text/html": [
       "<div>\n",
       "<style scoped>\n",
       "    .dataframe tbody tr th:only-of-type {\n",
       "        vertical-align: middle;\n",
       "    }\n",
       "\n",
       "    .dataframe tbody tr th {\n",
       "        vertical-align: top;\n",
       "    }\n",
       "\n",
       "    .dataframe thead tr th {\n",
       "        text-align: left;\n",
       "    }\n",
       "\n",
       "    .dataframe thead tr:last-of-type th {\n",
       "        text-align: right;\n",
       "    }\n",
       "</style>\n",
       "<table border=\"1\" class=\"dataframe\">\n",
       "  <thead>\n",
       "    <tr>\n",
       "      <th></th>\n",
       "      <th colspan=\"2\" halign=\"left\">flipper_length_mm</th>\n",
       "    </tr>\n",
       "    <tr>\n",
       "      <th></th>\n",
       "      <th>min</th>\n",
       "      <th>max</th>\n",
       "    </tr>\n",
       "    <tr>\n",
       "      <th>species</th>\n",
       "      <th></th>\n",
       "      <th></th>\n",
       "    </tr>\n",
       "  </thead>\n",
       "  <tbody>\n",
       "    <tr>\n",
       "      <th>Adelie</th>\n",
       "      <td>172.0</td>\n",
       "      <td>210.0</td>\n",
       "    </tr>\n",
       "    <tr>\n",
       "      <th>Chinstrap</th>\n",
       "      <td>178.0</td>\n",
       "      <td>212.0</td>\n",
       "    </tr>\n",
       "    <tr>\n",
       "      <th>Gentoo</th>\n",
       "      <td>203.0</td>\n",
       "      <td>231.0</td>\n",
       "    </tr>\n",
       "  </tbody>\n",
       "</table>\n",
       "</div>"
      ],
      "text/plain": [
       "          flipper_length_mm       \n",
       "                        min    max\n",
       "species                           \n",
       "Adelie                172.0  210.0\n",
       "Chinstrap             178.0  212.0\n",
       "Gentoo                203.0  231.0"
      ]
     },
     "execution_count": 19,
     "metadata": {},
     "output_type": "execute_result"
    }
   ],
   "source": [
    "# data.groupby(\"species\")[\"flipper_length_mm\"].max()\n",
    "# data.groupby(\"species\")[\"flipper_length_mm\"].min()\n",
    "\n",
    "data.groupby(\"species\").agg({'flipper_length_mm': ['min', 'max']})"
   ]
  },
  {
   "cell_type": "code",
   "execution_count": null,
   "metadata": {},
   "outputs": [
    {
     "data": {
      "text/html": [
       "<div>\n",
       "<style scoped>\n",
       "    .dataframe tbody tr th:only-of-type {\n",
       "        vertical-align: middle;\n",
       "    }\n",
       "\n",
       "    .dataframe tbody tr th {\n",
       "        vertical-align: top;\n",
       "    }\n",
       "\n",
       "    .dataframe thead tr th {\n",
       "        text-align: left;\n",
       "    }\n",
       "\n",
       "    .dataframe thead tr:last-of-type th {\n",
       "        text-align: right;\n",
       "    }\n",
       "</style>\n",
       "<table border=\"1\" class=\"dataframe\">\n",
       "  <thead>\n",
       "    <tr>\n",
       "      <th></th>\n",
       "      <th colspan=\"2\" halign=\"left\">flipper_length_mm</th>\n",
       "      <th>diff</th>\n",
       "    </tr>\n",
       "    <tr>\n",
       "      <th></th>\n",
       "      <th>min</th>\n",
       "      <th>max</th>\n",
       "      <th></th>\n",
       "    </tr>\n",
       "    <tr>\n",
       "      <th>species</th>\n",
       "      <th></th>\n",
       "      <th></th>\n",
       "      <th></th>\n",
       "    </tr>\n",
       "  </thead>\n",
       "  <tbody>\n",
       "    <tr>\n",
       "      <th>Gentoo</th>\n",
       "      <td>203.0</td>\n",
       "      <td>231.0</td>\n",
       "      <td>28.0</td>\n",
       "    </tr>\n",
       "    <tr>\n",
       "      <th>Chinstrap</th>\n",
       "      <td>178.0</td>\n",
       "      <td>212.0</td>\n",
       "      <td>34.0</td>\n",
       "    </tr>\n",
       "    <tr>\n",
       "      <th>Adelie</th>\n",
       "      <td>172.0</td>\n",
       "      <td>210.0</td>\n",
       "      <td>38.0</td>\n",
       "    </tr>\n",
       "  </tbody>\n",
       "</table>\n",
       "</div>"
      ],
      "text/plain": [
       "          flipper_length_mm         diff\n",
       "                        min    max      \n",
       "species                                 \n",
       "Gentoo                203.0  231.0  28.0\n",
       "Chinstrap             178.0  212.0  34.0\n",
       "Adelie                172.0  210.0  38.0"
      ]
     },
     "execution_count": 20,
     "metadata": {},
     "output_type": "execute_result"
    }
   ],
   "source": [
    "## MULTIINDEX\n",
    "\n",
    "# Výhoda: Tento přístup je vhodný, pokud chceš provádět agregace nad více sloupci nebo pokud potřebuješ přístup ke sloupcům přes víceúrovňový index.\n",
    "# Nevýhoda: Multiindex může být složitější na manipulaci a není vždy přehledný, pokud máš více agregovaných sloupců.\n",
    "aggregated = data.groupby(\"species\").agg({\"flipper_length_mm\": [\"min\", \"max\"]})\n",
    "\n",
    "aggregated[\"diff\"] = aggregated[(\"flipper_length_mm\", \"max\")] - aggregated[(\"flipper_length_mm\", \"min\")]\n",
    "aggregated.sort_values(by=\"diff\")\n"
   ]
  },
  {
   "cell_type": "code",
   "execution_count": 21,
   "metadata": {},
   "outputs": [
    {
     "data": {
      "text/html": [
       "<div>\n",
       "<style scoped>\n",
       "    .dataframe tbody tr th:only-of-type {\n",
       "        vertical-align: middle;\n",
       "    }\n",
       "\n",
       "    .dataframe tbody tr th {\n",
       "        vertical-align: top;\n",
       "    }\n",
       "\n",
       "    .dataframe thead th {\n",
       "        text-align: right;\n",
       "    }\n",
       "</style>\n",
       "<table border=\"1\" class=\"dataframe\">\n",
       "  <thead>\n",
       "    <tr style=\"text-align: right;\">\n",
       "      <th></th>\n",
       "      <th>min_flipper_length</th>\n",
       "      <th>max_flipper_length</th>\n",
       "      <th>diff</th>\n",
       "    </tr>\n",
       "    <tr>\n",
       "      <th>species</th>\n",
       "      <th></th>\n",
       "      <th></th>\n",
       "      <th></th>\n",
       "    </tr>\n",
       "  </thead>\n",
       "  <tbody>\n",
       "    <tr>\n",
       "      <th>Gentoo</th>\n",
       "      <td>203.0</td>\n",
       "      <td>231.0</td>\n",
       "      <td>28.0</td>\n",
       "    </tr>\n",
       "    <tr>\n",
       "      <th>Chinstrap</th>\n",
       "      <td>178.0</td>\n",
       "      <td>212.0</td>\n",
       "      <td>34.0</td>\n",
       "    </tr>\n",
       "    <tr>\n",
       "      <th>Adelie</th>\n",
       "      <td>172.0</td>\n",
       "      <td>210.0</td>\n",
       "      <td>38.0</td>\n",
       "    </tr>\n",
       "  </tbody>\n",
       "</table>\n",
       "</div>"
      ],
      "text/plain": [
       "           min_flipper_length  max_flipper_length  diff\n",
       "species                                                \n",
       "Gentoo                  203.0               231.0  28.0\n",
       "Chinstrap               178.0               212.0  34.0\n",
       "Adelie                  172.0               210.0  38.0"
      ]
     },
     "execution_count": 21,
     "metadata": {},
     "output_type": "execute_result"
    }
   ],
   "source": [
    "# Výhoda: Tento přístup je přehlednější a lépe se s ním pracuje, zejména pokud potřebuješ přístup k agregovaným sloupcům s jednoduchými názvy.\n",
    "# Výhoda: Názvy sloupců můžeš při agregaci rovnou definovat, což ti umožní přesně říct, jak se mají jednotlivé výsledky jmenovat.\n",
    "# Nevýhoda: Méně flexibilní při agregaci více sloupců současně (na rozdíl od slovníkového přístupu v prvním přístupu).\n",
    "aggregated = data.groupby(\"species\").agg(\n",
    "    min_flipper_length=(\"flipper_length_mm\", \"min\"),\n",
    "    max_flipper_length=(\"flipper_length_mm\", \"max\"),\n",
    ")\n",
    "\n",
    "aggregated[\"diff\"] = aggregated[\"max_flipper_length\"] - aggregated[\"min_flipper_length\"]\n",
    "aggregated.sort_values(by=\"diff\")"
   ]
  },
  {
   "cell_type": "markdown",
   "metadata": {},
   "source": [
    "### Na kterém ostrově je medián hmotnosti největší?\n",
    "\n",
    "Data seskupte podle názvu ostrova a použijte agregační funkci `median()` pro výpočet mediánu hmotnosti tučňáků na každém ostrově."
   ]
  },
  {
   "cell_type": "code",
   "execution_count": 22,
   "metadata": {},
   "outputs": [
    {
     "data": {
      "text/plain": [
       "island\n",
       "Biscoe       4775.0\n",
       "Dream        3687.5\n",
       "Torgersen    3700.0\n",
       "Name: body_mass_g, dtype: float64"
      ]
     },
     "execution_count": 22,
     "metadata": {},
     "output_type": "execute_result"
    }
   ],
   "source": [
    "data.groupby(\"island\")[\"body_mass_g\"].median()"
   ]
  },
  {
   "cell_type": "markdown",
   "metadata": {},
   "source": [
    "### Existují v datasetu chybějící hodnoty? Pokud ano, ve kterých sloupcích?"
   ]
  },
  {
   "cell_type": "code",
   "execution_count": 23,
   "metadata": {},
   "outputs": [
    {
     "data": {
      "text/plain": [
       "species               0\n",
       "island                0\n",
       "bill_length_mm        2\n",
       "bill_depth_mm         2\n",
       "flipper_length_mm     2\n",
       "body_mass_g           2\n",
       "sex                  11\n",
       "year                  0\n",
       "dtype: int64"
      ]
     },
     "execution_count": 23,
     "metadata": {},
     "output_type": "execute_result"
    }
   ],
   "source": [
    "data.isna().sum()"
   ]
  },
  {
   "cell_type": "markdown",
   "metadata": {},
   "source": [
    "### Které druhy tučňáků mají průměrnou délku křídel větší než 200 mm?"
   ]
  },
  {
   "cell_type": "code",
   "execution_count": 24,
   "metadata": {},
   "outputs": [
    {
     "data": {
      "text/plain": [
       "species\n",
       "Gentoo    217.186992\n",
       "Name: flipper_length_mm, dtype: float64"
      ]
     },
     "execution_count": 24,
     "metadata": {},
     "output_type": "execute_result"
    }
   ],
   "source": [
    "agg_series = data.groupby([\"species\"])[\"flipper_length_mm\"].mean()\n",
    "agg_series[agg_series >= 200]"
   ]
  }
 ],
 "metadata": {
  "kernelspec": {
   "display_name": "Python 3",
   "language": "python",
   "name": "python3"
  },
  "language_info": {
   "codemirror_mode": {
    "name": "ipython",
    "version": 3
   },
   "file_extension": ".py",
   "mimetype": "text/x-python",
   "name": "python",
   "nbconvert_exporter": "python",
   "pygments_lexer": "ipython3",
   "version": "3.12.3"
  }
 },
 "nbformat": 4,
 "nbformat_minor": 2
}
